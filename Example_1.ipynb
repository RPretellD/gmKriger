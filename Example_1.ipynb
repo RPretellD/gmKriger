{
 "cells": [
  {
   "cell_type": "markdown",
   "id": "3ad0d19c",
   "metadata": {},
   "source": [
    "# PGAs for the 1989 M6.7 Loma Prieta Earthquake"
   ]
  },
  {
   "cell_type": "code",
   "execution_count": 1,
   "id": "ab565ed0",
   "metadata": {},
   "outputs": [],
   "source": [
    "import gmKriger"
   ]
  },
  {
   "cell_type": "markdown",
   "id": "2e9c3413",
   "metadata": {},
   "source": [
    "## Input"
   ]
  },
  {
   "cell_type": "code",
   "execution_count": 2,
   "id": "1018dd12",
   "metadata": {},
   "outputs": [],
   "source": [
    "earthquake = '1989 M6.9 Loma Prieta'\n",
    "model = 'realizations'\n",
    "gmim  = 'PGA'\n",
    "\n",
    "site = ['Alameda Naval Air Station', 'Treasure Island', 'Alameda Bay Farm Island', 'Farris Farm', 'POO7']\n",
    "lat  = [37.785748,37.8261394,37.73380567,36.91026828,37.805242]\n",
    "lon  = [-122.309346,-122.3712351,-122.250101,-121.7437891,-122.339702]\n",
    "Vs30 = [186.2,181.1,230.7,209.5,223]"
   ]
  },
  {
   "cell_type": "markdown",
   "id": "bead34b8",
   "metadata": {},
   "source": [
    "## Compute PGAs"
   ]
  },
  {
   "cell_type": "code",
   "execution_count": 3,
   "id": "f416f666",
   "metadata": {},
   "outputs": [
    {
     "data": {
      "text/html": [
       "<div>\n",
       "<style scoped>\n",
       "    .dataframe tbody tr th:only-of-type {\n",
       "        vertical-align: middle;\n",
       "    }\n",
       "\n",
       "    .dataframe tbody tr th {\n",
       "        vertical-align: top;\n",
       "    }\n",
       "\n",
       "    .dataframe thead th {\n",
       "        text-align: right;\n",
       "    }\n",
       "</style>\n",
       "<table border=\"1\" class=\"dataframe\">\n",
       "  <thead>\n",
       "    <tr style=\"text-align: right;\">\n",
       "      <th></th>\n",
       "      <th>Site</th>\n",
       "      <th>Lat (deg)</th>\n",
       "      <th>Lon (deg)</th>\n",
       "      <th>PGA (g)</th>\n",
       "      <th>sigma_PGA (ln)</th>\n",
       "    </tr>\n",
       "  </thead>\n",
       "  <tbody>\n",
       "    <tr>\n",
       "      <th>0</th>\n",
       "      <td>Alameda Naval Air Station</td>\n",
       "      <td>37.785748</td>\n",
       "      <td>-122.309346</td>\n",
       "      <td>0.189312</td>\n",
       "      <td>0.386172</td>\n",
       "    </tr>\n",
       "    <tr>\n",
       "      <th>1</th>\n",
       "      <td>Treasure Island</td>\n",
       "      <td>37.826139</td>\n",
       "      <td>-122.371235</td>\n",
       "      <td>0.135361</td>\n",
       "      <td>0.273654</td>\n",
       "    </tr>\n",
       "    <tr>\n",
       "      <th>2</th>\n",
       "      <td>Alameda Bay Farm Island</td>\n",
       "      <td>37.733806</td>\n",
       "      <td>-122.250101</td>\n",
       "      <td>0.151978</td>\n",
       "      <td>0.429026</td>\n",
       "    </tr>\n",
       "    <tr>\n",
       "      <th>3</th>\n",
       "      <td>Farris Farm</td>\n",
       "      <td>36.910268</td>\n",
       "      <td>-121.743789</td>\n",
       "      <td>0.458404</td>\n",
       "      <td>0.494209</td>\n",
       "    </tr>\n",
       "    <tr>\n",
       "      <th>4</th>\n",
       "      <td>POO7</td>\n",
       "      <td>37.805242</td>\n",
       "      <td>-122.339702</td>\n",
       "      <td>0.154422</td>\n",
       "      <td>0.350264</td>\n",
       "    </tr>\n",
       "  </tbody>\n",
       "</table>\n",
       "</div>"
      ],
      "text/plain": [
       "                        Site  Lat (deg)   Lon (deg)   PGA (g)  sigma_PGA (ln)\n",
       "0  Alameda Naval Air Station  37.785748 -122.309346  0.189312        0.386172\n",
       "1            Treasure Island  37.826139 -122.371235  0.135361        0.273654\n",
       "2    Alameda Bay Farm Island  37.733806 -122.250101  0.151978        0.429026\n",
       "3                Farris Farm  36.910268 -121.743789  0.458404        0.494209\n",
       "4                       POO7  37.805242 -122.339702  0.154422        0.350264"
      ]
     },
     "execution_count": 3,
     "metadata": {},
     "output_type": "execute_result"
    }
   ],
   "source": [
    "gmKriger.get_Kgmim(site,lat,lon,Vs30,earthquake,model,gmim)"
   ]
  }
 ],
 "metadata": {
  "kernelspec": {
   "display_name": "Python 3 (ipykernel)",
   "language": "python",
   "name": "python3"
  },
  "language_info": {
   "codemirror_mode": {
    "name": "ipython",
    "version": 3
   },
   "file_extension": ".py",
   "mimetype": "text/x-python",
   "name": "python",
   "nbconvert_exporter": "python",
   "pygments_lexer": "ipython3",
   "version": "3.9.13"
  }
 },
 "nbformat": 4,
 "nbformat_minor": 5
}
