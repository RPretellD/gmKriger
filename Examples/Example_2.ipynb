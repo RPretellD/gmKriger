{
 "cells": [
  {
   "cell_type": "markdown",
   "id": "3ad0d19c",
   "metadata": {},
   "source": [
    "# Ground motions for the 2023 M7.8 Pazarcik Earthquake"
   ]
  },
  {
   "cell_type": "code",
   "execution_count": 1,
   "id": "7a3e622a",
   "metadata": {},
   "outputs": [],
   "source": [
    "import pandas as pd\n",
    "import gmKriger"
   ]
  },
  {
   "cell_type": "markdown",
   "id": "c366827c",
   "metadata": {},
   "source": [
    "## Input"
   ]
  },
  {
   "cell_type": "code",
   "execution_count": 2,
   "id": "1018dd12",
   "metadata": {},
   "outputs": [],
   "source": [
    "earthquake = '2023 M7.8 Pazarcik'\n",
    "model = 'MAP'\n",
    "gmims = ['PGA','PGV','Ia','CAV','CAVdp','PSA(0.3)','PSA(0.6)','PSA(1.0)']\n",
    "\n",
    "site = ['A', 'B', 'C']\n",
    "lat  = [36.59, 36.59, 36.59]\n",
    "lon  = [36.17, 36.16, 36.16]\n",
    "Vs30 = [150, 200, 250]"
   ]
  },
  {
   "cell_type": "markdown",
   "id": "a56100df",
   "metadata": {},
   "source": [
    "## Compute ground motions"
   ]
  },
  {
   "cell_type": "code",
   "execution_count": 3,
   "id": "f416f666",
   "metadata": {},
   "outputs": [],
   "source": [
    "dfs = []\n",
    "for gmim in gmims:\n",
    "    dfs.append(gmKriger.get_Kgmim(site,lat,lon,Vs30,earthquake,model,gmim).iloc[:,:-1])"
   ]
  },
  {
   "cell_type": "markdown",
   "id": "18b02112",
   "metadata": {},
   "source": [
    "## Show results"
   ]
  },
  {
   "cell_type": "code",
   "execution_count": 4,
   "id": "1925cdca",
   "metadata": {},
   "outputs": [
    {
     "data": {
      "text/html": [
       "<div>\n",
       "<style scoped>\n",
       "    .dataframe tbody tr th:only-of-type {\n",
       "        vertical-align: middle;\n",
       "    }\n",
       "\n",
       "    .dataframe tbody tr th {\n",
       "        vertical-align: top;\n",
       "    }\n",
       "\n",
       "    .dataframe thead th {\n",
       "        text-align: right;\n",
       "    }\n",
       "</style>\n",
       "<table border=\"1\" class=\"dataframe\">\n",
       "  <thead>\n",
       "    <tr style=\"text-align: right;\">\n",
       "      <th></th>\n",
       "      <th>Site</th>\n",
       "      <th>Lat (deg)</th>\n",
       "      <th>Lon (deg)</th>\n",
       "      <th>PGA (g)</th>\n",
       "      <th>PGV (cm/s)</th>\n",
       "      <th>Ia (m/s)</th>\n",
       "      <th>CAV (m/s)</th>\n",
       "      <th>CAVdp (g/s)</th>\n",
       "      <th>PSA(0.3) (g)</th>\n",
       "      <th>PSA(0.6) (g)</th>\n",
       "      <th>PSA(1.0) (g)</th>\n",
       "    </tr>\n",
       "  </thead>\n",
       "  <tbody>\n",
       "    <tr>\n",
       "      <th>0</th>\n",
       "      <td>A</td>\n",
       "      <td>36.59</td>\n",
       "      <td>36.17</td>\n",
       "      <td>0.299799</td>\n",
       "      <td>71.434040</td>\n",
       "      <td>3.041709</td>\n",
       "      <td>31.522088</td>\n",
       "      <td>1.560685</td>\n",
       "      <td>0.691661</td>\n",
       "      <td>0.773162</td>\n",
       "      <td>0.642847</td>\n",
       "    </tr>\n",
       "    <tr>\n",
       "      <th>1</th>\n",
       "      <td>B</td>\n",
       "      <td>36.59</td>\n",
       "      <td>36.16</td>\n",
       "      <td>0.311180</td>\n",
       "      <td>69.107173</td>\n",
       "      <td>2.389594</td>\n",
       "      <td>26.724613</td>\n",
       "      <td>1.346596</td>\n",
       "      <td>0.720759</td>\n",
       "      <td>0.763424</td>\n",
       "      <td>0.591695</td>\n",
       "    </tr>\n",
       "    <tr>\n",
       "      <th>2</th>\n",
       "      <td>C</td>\n",
       "      <td>36.59</td>\n",
       "      <td>36.16</td>\n",
       "      <td>0.317754</td>\n",
       "      <td>66.637483</td>\n",
       "      <td>2.224422</td>\n",
       "      <td>25.257675</td>\n",
       "      <td>1.291246</td>\n",
       "      <td>0.734850</td>\n",
       "      <td>0.744822</td>\n",
       "      <td>0.548731</td>\n",
       "    </tr>\n",
       "  </tbody>\n",
       "</table>\n",
       "</div>"
      ],
      "text/plain": [
       "  Site  Lat (deg)  Lon (deg)   PGA (g)  PGV (cm/s)  Ia (m/s)  CAV (m/s)   \n",
       "0    A      36.59      36.17  0.299799   71.434040  3.041709  31.522088  \\\n",
       "1    B      36.59      36.16  0.311180   69.107173  2.389594  26.724613   \n",
       "2    C      36.59      36.16  0.317754   66.637483  2.224422  25.257675   \n",
       "\n",
       "   CAVdp (g/s)  PSA(0.3) (g)  PSA(0.6) (g)  PSA(1.0) (g)  \n",
       "0     1.560685      0.691661      0.773162      0.642847  \n",
       "1     1.346596      0.720759      0.763424      0.591695  \n",
       "2     1.291246      0.734850      0.744822      0.548731  "
      ]
     },
     "execution_count": 4,
     "metadata": {},
     "output_type": "execute_result"
    }
   ],
   "source": [
    "results = pd.merge(dfs[0], dfs[1], on=['Site','Lat (deg)','Lon (deg)'], how='outer')\n",
    "for df in dfs[2:]:\n",
    "    results = pd.merge(results, df, on=['Site','Lat (deg)','Lon (deg)'], how='outer')\n",
    "results"
   ]
  }
 ],
 "metadata": {
  "kernelspec": {
   "display_name": "Python 3 (ipykernel)",
   "language": "python",
   "name": "python3"
  },
  "language_info": {
   "codemirror_mode": {
    "name": "ipython",
    "version": 3
   },
   "file_extension": ".py",
   "mimetype": "text/x-python",
   "name": "python",
   "nbconvert_exporter": "python",
   "pygments_lexer": "ipython3",
   "version": "3.9.13"
  }
 },
 "nbformat": 4,
 "nbformat_minor": 5
}
