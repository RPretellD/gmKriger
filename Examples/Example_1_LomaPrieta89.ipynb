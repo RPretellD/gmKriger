{
 "cells": [
  {
   "cell_type": "markdown",
   "id": "6c082803",
   "metadata": {},
   "source": [
    "# gmKriger: A Kriging-based ground motion intensity measure calculator\n",
    "---\n",
    "**gmKriger** computes ground motion intensity measures for past earthquake events given a site's location (latitude and longitude) and Vs30. **gmKriger** uses ordinary Kriging interpolation and spatial correlation model developed using a Bayesian approach.\n",
    "\n",
    "*For any questions or comments, contact Renmin Pretell at <rpretell@unr.edu>.*\n",
    "\n",
    "### Citations\n",
    "> Pretell, R. (2024). gmKriger: A Kriging-based ground motion intensity measure calculator. Version 0.2.0. Zenodo. https://doi.org/10.5281/zenodo.10691892\n",
    "\n",
    "> Pretell, R., Brandenberg, S.J., Stewart, J.P. (2024). \"Consistent Framework for PGA Estimation at Liquefaction Case History Sites: Application to the 1989 M6.9 Loma Prieta Earthquake.\" In: *Proceedings of Geo-Congress 2024*, Vancouver, Canada, Feb. 25-28, 2024. https://doi.org/10.1061/9780784485316.018"
   ]
  },
  {
   "cell_type": "markdown",
   "id": "3ad0d19c",
   "metadata": {},
   "source": [
    "# PGAs for the 1989 M6.7 Loma Prieta Earthquake\n",
    "---"
   ]
  },
  {
   "cell_type": "markdown",
   "id": "e176fefd",
   "metadata": {},
   "source": [
    "## Imports"
   ]
  },
  {
   "cell_type": "code",
   "execution_count": 1,
   "id": "ab565ed0",
   "metadata": {},
   "outputs": [],
   "source": [
    "import pandas as pd\n",
    "import gmKriger"
   ]
  },
  {
   "cell_type": "markdown",
   "id": "2e9c3413",
   "metadata": {},
   "source": [
    "## Select an earthquake and a ground motion intensity measures (GMIMs)"
   ]
  },
  {
   "cell_type": "code",
   "execution_count": 2,
   "id": "94f1fc88",
   "metadata": {},
   "outputs": [],
   "source": [
    "earthquake = '1989 M6.9 Loma Prieta'\n",
    "gmims = ['PGA','PGV','Ia','CAV']"
   ]
  },
  {
   "cell_type": "markdown",
   "id": "e006ac61",
   "metadata": {},
   "source": [
    "## Select the correlation model type"
   ]
  },
  {
   "cell_type": "markdown",
   "id": "a87ca23d",
   "metadata": {},
   "source": [
    "Type 1: ***realizations***: Select this to use 1000 Bayesian spatial correlation models. This option might need a few minutes for well-recorded earthquakes.<br>\n",
    "Type 2: ***MAP***: Select this to use the ***M***aximum ***A*** ***P***osteriori spatial correlation model. This option generally takes just a few seconds.<br>\n",
    "Type 3: ***all***: Select this to use the 1000 and the maximum a posteriori spatial correlation models. This option might need a few minutes for well-recorded earthquakes. "
   ]
  },
  {
   "cell_type": "code",
   "execution_count": 3,
   "id": "2f2775df",
   "metadata": {},
   "outputs": [],
   "source": [
    "model = 'realizations'"
   ]
  },
  {
   "cell_type": "markdown",
   "id": "33818a25",
   "metadata": {},
   "source": [
    "## Input sites' ID, latitude, longitude, and site $V_{s30}$"
   ]
  },
  {
   "cell_type": "code",
   "execution_count": 4,
   "id": "1018dd12",
   "metadata": {},
   "outputs": [],
   "source": [
    "site = ['Alameda Naval Air Station', 'Treasure Island', 'Alameda Bay Farm Island', 'Farris Farm', 'POO7']\n",
    "lat  = [37.785748,37.8261394,37.73380567,36.91026828,37.805242]\n",
    "lon  = [-122.309346,-122.3712351,-122.250101,-121.7437891,-122.339702]\n",
    "Vs30 = [186.2,181.1,230.7,209.5,223]"
   ]
  },
  {
   "cell_type": "markdown",
   "id": "bead34b8",
   "metadata": {},
   "source": [
    "## Compute ground motions"
   ]
  },
  {
   "cell_type": "code",
   "execution_count": 5,
   "id": "33dc20b6",
   "metadata": {},
   "outputs": [],
   "source": [
    "dfs = []\n",
    "for gmim in gmims:\n",
    "    dfs.append(gmKriger.get_Kgmim(site,lat,lon,Vs30,earthquake,model,gmim).iloc[:,:-1])"
   ]
  },
  {
   "cell_type": "markdown",
   "id": "9455dce4",
   "metadata": {},
   "source": [
    "## Show results"
   ]
  },
  {
   "cell_type": "code",
   "execution_count": 6,
   "id": "f416f666",
   "metadata": {},
   "outputs": [
    {
     "data": {
      "text/html": [
       "<div>\n",
       "<style scoped>\n",
       "    .dataframe tbody tr th:only-of-type {\n",
       "        vertical-align: middle;\n",
       "    }\n",
       "\n",
       "    .dataframe tbody tr th {\n",
       "        vertical-align: top;\n",
       "    }\n",
       "\n",
       "    .dataframe thead th {\n",
       "        text-align: right;\n",
       "    }\n",
       "</style>\n",
       "<table border=\"1\" class=\"dataframe\">\n",
       "  <thead>\n",
       "    <tr style=\"text-align: right;\">\n",
       "      <th></th>\n",
       "      <th>Site</th>\n",
       "      <th>Lat (deg)</th>\n",
       "      <th>Lon (deg)</th>\n",
       "      <th>PGA (g)</th>\n",
       "      <th>PGV (cm/s)</th>\n",
       "      <th>Ia (m/s)</th>\n",
       "      <th>CAV (m/s)</th>\n",
       "    </tr>\n",
       "  </thead>\n",
       "  <tbody>\n",
       "    <tr>\n",
       "      <th>0</th>\n",
       "      <td>Alameda Naval Air Station</td>\n",
       "      <td>37.785748</td>\n",
       "      <td>-122.309346</td>\n",
       "      <td>0.189312</td>\n",
       "      <td>30.064655</td>\n",
       "      <td>0.344883</td>\n",
       "      <td>5.346806</td>\n",
       "    </tr>\n",
       "    <tr>\n",
       "      <th>1</th>\n",
       "      <td>Treasure Island</td>\n",
       "      <td>37.826139</td>\n",
       "      <td>-122.371235</td>\n",
       "      <td>0.135361</td>\n",
       "      <td>25.364058</td>\n",
       "      <td>0.206999</td>\n",
       "      <td>3.512257</td>\n",
       "    </tr>\n",
       "    <tr>\n",
       "      <th>2</th>\n",
       "      <td>Alameda Bay Farm Island</td>\n",
       "      <td>37.733806</td>\n",
       "      <td>-122.250101</td>\n",
       "      <td>0.151978</td>\n",
       "      <td>22.284721</td>\n",
       "      <td>0.254001</td>\n",
       "      <td>4.799456</td>\n",
       "    </tr>\n",
       "    <tr>\n",
       "      <th>3</th>\n",
       "      <td>Farris Farm</td>\n",
       "      <td>36.910268</td>\n",
       "      <td>-121.743789</td>\n",
       "      <td>0.458404</td>\n",
       "      <td>68.804516</td>\n",
       "      <td>2.206253</td>\n",
       "      <td>12.195516</td>\n",
       "    </tr>\n",
       "    <tr>\n",
       "      <th>4</th>\n",
       "      <td>POO7</td>\n",
       "      <td>37.805242</td>\n",
       "      <td>-122.339702</td>\n",
       "      <td>0.154422</td>\n",
       "      <td>26.350648</td>\n",
       "      <td>0.222169</td>\n",
       "      <td>4.205655</td>\n",
       "    </tr>\n",
       "  </tbody>\n",
       "</table>\n",
       "</div>"
      ],
      "text/plain": [
       "                        Site  Lat (deg)   Lon (deg)   PGA (g)  PGV (cm/s)   \n",
       "0  Alameda Naval Air Station  37.785748 -122.309346  0.189312   30.064655  \\\n",
       "1            Treasure Island  37.826139 -122.371235  0.135361   25.364058   \n",
       "2    Alameda Bay Farm Island  37.733806 -122.250101  0.151978   22.284721   \n",
       "3                Farris Farm  36.910268 -121.743789  0.458404   68.804516   \n",
       "4                       POO7  37.805242 -122.339702  0.154422   26.350648   \n",
       "\n",
       "   Ia (m/s)  CAV (m/s)  \n",
       "0  0.344883   5.346806  \n",
       "1  0.206999   3.512257  \n",
       "2  0.254001   4.799456  \n",
       "3  2.206253  12.195516  \n",
       "4  0.222169   4.205655  "
      ]
     },
     "execution_count": 6,
     "metadata": {},
     "output_type": "execute_result"
    }
   ],
   "source": [
    "results = pd.merge(dfs[0], dfs[1], on=['Site','Lat (deg)','Lon (deg)'], how='outer')\n",
    "for df in dfs[2:]:\n",
    "    results = pd.merge(results, df, on=['Site','Lat (deg)','Lon (deg)'], how='outer')\n",
    "results"
   ]
  }
 ],
 "metadata": {
  "kernelspec": {
   "display_name": "Python 3 (ipykernel)",
   "language": "python",
   "name": "python3"
  },
  "language_info": {
   "codemirror_mode": {
    "name": "ipython",
    "version": 3
   },
   "file_extension": ".py",
   "mimetype": "text/x-python",
   "name": "python",
   "nbconvert_exporter": "python",
   "pygments_lexer": "ipython3",
   "version": "3.9.13"
  }
 },
 "nbformat": 4,
 "nbformat_minor": 5
}
