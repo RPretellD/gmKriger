{
 "cells": [
  {
   "cell_type": "markdown",
   "id": "e6fd14dd",
   "metadata": {},
   "source": [
    "# gmKriger: A Kriging-based ground motion intensity measure calculator\n",
    "---\n",
    "**gmKriger** computes ground motion intensity measures for past earthquake events given a site's location (latitude and longitude) and Vs30. **gmKriger** uses ordinary Kriging interpolation and spatial correlation model developed using a Bayesian approach.\n",
    "\n",
    "*For any questions or comments, contact Renmin Pretell at <rpretell@unr.edu>.*\n",
    "\n",
    "### Citations\n",
    "> Pretell, R. (2024). gmKriger: A Kriging-based ground motion intensity measure calculator. Version 0.2.0. Zenodo. https://doi.org/10.5281/zenodo.10691892\n",
    "\n",
    "> Pretell, R., Brandenberg, S.J., Stewart, J.P. (2024). \"Consistent framework for PGA estimation at liquefaction case history sites: Application to the 1989 M6.9 Loma Prieta Earthquake.\" In: *Proceedings of Geo-Congress 2024*, Vancouver, Canada, Feb. 25-28, 2024. https://doi.org/10.1061/9780784485316.018"
   ]
  },
  {
   "cell_type": "markdown",
   "id": "3ad0d19c",
   "metadata": {},
   "source": [
    "# Ground motions for the 2023 M7.81 Pazarcik Earthquake"
   ]
  },
  {
   "cell_type": "code",
   "execution_count": 1,
   "id": "7a3e622a",
   "metadata": {},
   "outputs": [],
   "source": [
    "import pandas as pd\n",
    "import gmKriger"
   ]
  },
  {
   "cell_type": "markdown",
   "id": "c366827c",
   "metadata": {},
   "source": [
    "## Input"
   ]
  },
  {
   "cell_type": "code",
   "execution_count": 2,
   "id": "1018dd12",
   "metadata": {},
   "outputs": [],
   "source": [
    "earthquake = '2023 M7.81 Pazarcik'\n",
    "model = 'MAP'\n",
    "gmims = ['PGA','PGV','Ia','CAV','CAVdp','PSA(0.300)','PSA(0.600)','PSA(1.000)']\n",
    "\n",
    "site = ['A', 'B', 'C']\n",
    "lat  = [36.59, 36.59, 36.59]\n",
    "lon  = [36.17, 36.16, 36.10]\n",
    "Vs30 = [150, 200, 250]"
   ]
  },
  {
   "cell_type": "markdown",
   "id": "a56100df",
   "metadata": {},
   "source": [
    "## Compute ground motions"
   ]
  },
  {
   "cell_type": "code",
   "execution_count": 3,
   "id": "f416f666",
   "metadata": {},
   "outputs": [],
   "source": [
    "dfs = []\n",
    "for gmim in gmims:\n",
    "    dfs.append(gmKriger.get_Kgmim(site,lat,lon,Vs30,earthquake,model,gmim).iloc[:,:-1])"
   ]
  },
  {
   "cell_type": "markdown",
   "id": "18b02112",
   "metadata": {},
   "source": [
    "## Show results"
   ]
  },
  {
   "cell_type": "code",
   "execution_count": 4,
   "id": "1925cdca",
   "metadata": {},
   "outputs": [
    {
     "data": {
      "text/html": [
       "<div>\n",
       "<style scoped>\n",
       "    .dataframe tbody tr th:only-of-type {\n",
       "        vertical-align: middle;\n",
       "    }\n",
       "\n",
       "    .dataframe tbody tr th {\n",
       "        vertical-align: top;\n",
       "    }\n",
       "\n",
       "    .dataframe thead th {\n",
       "        text-align: right;\n",
       "    }\n",
       "</style>\n",
       "<table border=\"1\" class=\"dataframe\">\n",
       "  <thead>\n",
       "    <tr style=\"text-align: right;\">\n",
       "      <th></th>\n",
       "      <th>Site</th>\n",
       "      <th>Lat (deg)</th>\n",
       "      <th>Lon (deg)</th>\n",
       "      <th>PGA (g)</th>\n",
       "      <th>PGV (cm/s)</th>\n",
       "      <th>Ia (m/s)</th>\n",
       "      <th>CAV (m/s)</th>\n",
       "      <th>CAVdp (g-s)</th>\n",
       "      <th>PSA(0.300) (g)</th>\n",
       "      <th>PSA(0.600) (g)</th>\n",
       "      <th>PSA(1.000) (g)</th>\n",
       "    </tr>\n",
       "  </thead>\n",
       "  <tbody>\n",
       "    <tr>\n",
       "      <th>0</th>\n",
       "      <td>A</td>\n",
       "      <td>36.59</td>\n",
       "      <td>36.17</td>\n",
       "      <td>0.277189</td>\n",
       "      <td>71.478014</td>\n",
       "      <td>3.258333</td>\n",
       "      <td>33.802077</td>\n",
       "      <td>2.677930</td>\n",
       "      <td>0.693798</td>\n",
       "      <td>0.790807</td>\n",
       "      <td>0.612472</td>\n",
       "    </tr>\n",
       "    <tr>\n",
       "      <th>1</th>\n",
       "      <td>B</td>\n",
       "      <td>36.59</td>\n",
       "      <td>36.16</td>\n",
       "      <td>0.291742</td>\n",
       "      <td>69.123438</td>\n",
       "      <td>2.587387</td>\n",
       "      <td>28.820676</td>\n",
       "      <td>2.411266</td>\n",
       "      <td>0.724193</td>\n",
       "      <td>0.780971</td>\n",
       "      <td>0.558583</td>\n",
       "    </tr>\n",
       "    <tr>\n",
       "      <th>2</th>\n",
       "      <td>C</td>\n",
       "      <td>36.59</td>\n",
       "      <td>36.10</td>\n",
       "      <td>0.299676</td>\n",
       "      <td>59.663044</td>\n",
       "      <td>2.041855</td>\n",
       "      <td>25.330810</td>\n",
       "      <td>2.128615</td>\n",
       "      <td>0.679290</td>\n",
       "      <td>0.684904</td>\n",
       "      <td>0.430471</td>\n",
       "    </tr>\n",
       "  </tbody>\n",
       "</table>\n",
       "</div>"
      ],
      "text/plain": [
       "  Site  Lat (deg)  Lon (deg)   PGA (g)  PGV (cm/s)  Ia (m/s)  CAV (m/s)   \n",
       "0    A      36.59      36.17  0.277189   71.478014  3.258333  33.802077  \\\n",
       "1    B      36.59      36.16  0.291742   69.123438  2.587387  28.820676   \n",
       "2    C      36.59      36.10  0.299676   59.663044  2.041855  25.330810   \n",
       "\n",
       "   CAVdp (g-s)  PSA(0.300) (g)  PSA(0.600) (g)  PSA(1.000) (g)  \n",
       "0     2.677930        0.693798        0.790807        0.612472  \n",
       "1     2.411266        0.724193        0.780971        0.558583  \n",
       "2     2.128615        0.679290        0.684904        0.430471  "
      ]
     },
     "execution_count": 4,
     "metadata": {},
     "output_type": "execute_result"
    }
   ],
   "source": [
    "results = pd.merge(dfs[0], dfs[1], on=['Site','Lat (deg)','Lon (deg)'], how='outer')\n",
    "for df in dfs[2:]:\n",
    "    results = pd.merge(results, df, on=['Site','Lat (deg)','Lon (deg)'], how='outer')\n",
    "results"
   ]
  }
 ],
 "metadata": {
  "kernelspec": {
   "display_name": "Python 3 (ipykernel)",
   "language": "python",
   "name": "python3"
  },
  "language_info": {
   "codemirror_mode": {
    "name": "ipython",
    "version": 3
   },
   "file_extension": ".py",
   "mimetype": "text/x-python",
   "name": "python",
   "nbconvert_exporter": "python",
   "pygments_lexer": "ipython3",
   "version": "3.9.13"
  }
 },
 "nbformat": 4,
 "nbformat_minor": 5
}
